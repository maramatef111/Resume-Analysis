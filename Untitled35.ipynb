{
  "nbformat": 4,
  "nbformat_minor": 0,
  "metadata": {
    "colab": {
      "provenance": [],
      "authorship_tag": "ABX9TyMU8ErnxXxmBog42Bol3alQ",
      "include_colab_link": true
    },
    "kernelspec": {
      "name": "python3",
      "display_name": "Python 3"
    },
    "language_info": {
      "name": "python"
    }
  },
  "cells": [
    {
      "cell_type": "markdown",
      "metadata": {
        "id": "view-in-github",
        "colab_type": "text"
      },
      "source": [
        "<a href=\"https://colab.research.google.com/github/maramatef111/Resume-Analysis/blob/main/Untitled35.ipynb\" target=\"_parent\"><img src=\"https://colab.research.google.com/assets/colab-badge.svg\" alt=\"Open In Colab\"/></a>"
      ]
    },
    {
      "cell_type": "code",
      "execution_count": 1,
      "metadata": {
        "colab": {
          "base_uri": "https://localhost:8080/"
        },
        "id": "6gjKeJ822jTO",
        "outputId": "46af866b-da16-46a3-ef31-18d4610add82"
      },
      "outputs": [
        {
          "output_type": "stream",
          "name": "stdout",
          "text": [
            "✅ Cleaned and saved as resume_analysis_cleaned.ipynb\n"
          ]
        }
      ],
      "source": [
        "import json\n",
        "\n",
        "# Load the uploaded notebook file\n",
        "with open('resume_analysis.ipynb', 'r', encoding='utf-8') as f:\n",
        "    notebook = json.load(f)\n",
        "\n",
        "# Remove broken widget metadata\n",
        "notebook['metadata'].pop('widgets', None)\n",
        "\n",
        "# Save the cleaned version\n",
        "with open('resume_analysis_cleaned.ipynb', 'w', encoding='utf-8') as f:\n",
        "    json.dump(notebook, f, indent=1)\n",
        "\n",
        "print(\"✅ Cleaned and saved as resume_analysis_cleaned.ipynb\")"
      ]
    },
    {
      "cell_type": "code",
      "source": [],
      "metadata": {
        "id": "8OMV8GGe2q8y"
      },
      "execution_count": null,
      "outputs": []
    }
  ]
}